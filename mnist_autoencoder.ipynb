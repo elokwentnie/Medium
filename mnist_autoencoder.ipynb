{
 "cells": [
  {
   "cell_type": "code",
   "execution_count": 25,
   "metadata": {},
   "outputs": [],
   "source": [
    "import numpy as np\n",
    "import keras\n",
    "from keras.datasets import mnist\n",
    "from keras.models import Sequential, Model\n",
    "from keras.layers import Dense, Input, Conv2D, MaxPooling2D, UpSampling2D\n",
    "from keras import optimizers\n",
    "from keras.optimizers import Adam"
   ]
  },
  {
   "cell_type": "code",
   "execution_count": 3,
   "metadata": {},
   "outputs": [
    {
     "name": "stdout",
     "output_type": "stream",
     "text": [
      "Downloading data from https://storage.googleapis.com/tensorflow/tf-keras-datasets/mnist.npz\n",
      "11490434/11490434 [==============================] - 6s 1us/step\n"
     ]
    }
   ],
   "source": [
    "(x_train, y_train), (x_test, y_test) = mnist.load_data()"
   ]
  },
  {
   "cell_type": "code",
   "execution_count": 4,
   "metadata": {},
   "outputs": [],
   "source": [
    "train_x = x_train.reshape(60000, 784) / 255\n",
    "val_x = x_test.reshape(10000, 784) / 255"
   ]
  },
  {
   "cell_type": "code",
   "execution_count": 11,
   "metadata": {},
   "outputs": [
    {
     "name": "stdout",
     "output_type": "stream",
     "text": [
      "Epoch 1/10\n",
      "59/59 [==============================] - 1s 21ms/step - loss: 0.0735 - val_loss: 0.0461\n",
      "Epoch 2/10\n",
      "59/59 [==============================] - 1s 20ms/step - loss: 0.0394 - val_loss: 0.0329\n",
      "Epoch 3/10\n",
      "59/59 [==============================] - 1s 20ms/step - loss: 0.0306 - val_loss: 0.0278\n",
      "Epoch 4/10\n",
      "59/59 [==============================] - 1s 20ms/step - loss: 0.0269 - val_loss: 0.0252\n",
      "Epoch 5/10\n",
      "59/59 [==============================] - 1s 20ms/step - loss: 0.0247 - val_loss: 0.0235\n",
      "Epoch 6/10\n",
      "59/59 [==============================] - 1s 20ms/step - loss: 0.0233 - val_loss: 0.0224\n",
      "Epoch 7/10\n",
      "59/59 [==============================] - 1s 20ms/step - loss: 0.0222 - val_loss: 0.0214\n",
      "Epoch 8/10\n",
      "59/59 [==============================] - 1s 22ms/step - loss: 0.0213 - val_loss: 0.0205\n",
      "Epoch 9/10\n",
      "59/59 [==============================] - 1s 21ms/step - loss: 0.0205 - val_loss: 0.0197\n",
      "Epoch 10/10\n",
      "59/59 [==============================] - 1s 21ms/step - loss: 0.0197 - val_loss: 0.0190\n"
     ]
    }
   ],
   "source": [
    "autoencoder = Sequential()\n",
    "autoencoder.add(Dense(512, activation='elu', input_shape=(784,)))\n",
    "autoencoder.add(Dense(128, activation='elu'))\n",
    "autoencoder.add(Dense(10, activation='linear', name='bottleneck'))\n",
    "autoencoder.add(Dense(128, activation='elu'))\n",
    "autoencoder.add(Dense(512, activation='elu'))\n",
    "autoencoder.add(Dense(784, activation='sigmoid'))\n",
    "autoencoder.compile(loss='mean_squared_error', optimizer=Adam())\n",
    "trained_model = autoencoder.fit(train_x, train_x, batch_size=1024, epochs=10, verbose=1, validation_data = (val_x, val_x))"
   ]
  },
  {
   "cell_type": "code",
   "execution_count": 12,
   "metadata": {},
   "outputs": [
    {
     "name": "stdout",
     "output_type": "stream",
     "text": [
      "1875/1875 [==============================] - 1s 446us/step\n",
      "1875/1875 [==============================] - 2s 885us/step\n"
     ]
    }
   ],
   "source": [
    "encoder = Model(autoencoder.input, autoencoder.get_layer('bottleneck').output)\n",
    "encoded_data = encoder.predict(train_x)\n",
    "decoded_output = autoencoder.predict(train_x)\n",
    "encoding_dim = 10"
   ]
  },
  {
   "cell_type": "code",
   "execution_count": 13,
   "metadata": {},
   "outputs": [],
   "source": [
    "encoded_input = Input(shape=encoding_dim,)\n",
    "decoder = autoencoder.layers[-3](encoded_input)\n",
    "decoder = autoencoder.layers[-2](decoder)\n",
    "decoder = autoencoder.layers[-1](decoder)\n",
    "decoder = Model(encoded_input, decoder)"
   ]
  },
  {
   "cell_type": "code",
   "execution_count": 14,
   "metadata": {},
   "outputs": [
    {
     "name": "stdout",
     "output_type": "stream",
     "text": [
      "1/1 [==============================] - 0s 20ms/step\n",
      "[1534.1743]\n"
     ]
    }
   ],
   "source": [
    "%matplotlib inline\n",
    "from keras.preprocessing import image\n",
    "img = image.load_img(\"../../profilowe.png\", target_size=(28,28), color_mode='grayscale')\n",
    "input_img = image.img_to_array(img)\n",
    "inputs = input_img.reshape(1,784)\n",
    "target_data = autoencoder.predict(inputs)\n",
    "dist = np.linalg.norm(inputs - target_data, axis=-1)\n",
    "print(dist)"
   ]
  },
  {
   "cell_type": "markdown",
   "metadata": {},
   "source": [
    "# Denoising"
   ]
  },
  {
   "cell_type": "code",
   "execution_count": 23,
   "metadata": {},
   "outputs": [],
   "source": [
    "noise_factor = 0.9\n",
    "x_train_noisy = x_train + noise_factor * np.random.normal(loc=0.0, scale=1.0, size=x_train.shape)\n",
    "x_test_noisy  = x_test + noise_factor * np.random.normal(loc=0.0, scale=1.0, size=x_test.shape)"
   ]
  },
  {
   "cell_type": "code",
   "execution_count": 22,
   "metadata": {
    "scrolled": true
   },
   "outputs": [
    {
     "data": {
      "text/plain": [
       "<matplotlib.image.AxesImage at 0x2d0f4a3d0>"
      ]
     },
     "execution_count": 22,
     "metadata": {},
     "output_type": "execute_result"
    },
    {
     "data": {
      "image/png": "[encoded data removed]",
      "text/plain": [
       "<Figure size 640x480 with 1 Axes>"
      ]
     },
     "metadata": {},
     "output_type": "display_data"
    }
   ],
   "source": [
    "import matplotlib.pyplot as plt\n",
    "x_train_noisy = np.clip(x_train_noisy, 0., 1.)\n",
    "x_test_noisy = np.clip(x_test_noisy, 0., 1.)\n",
    "plt.imshow(x_test_noisy[1].reshape(28,28))"
   ]
  },
  {
   "cell_type": "code",
   "execution_count": 26,
   "metadata": {},
   "outputs": [],
   "source": [
    "input_img = Input(shape=(28, 28, 1))\n",
    "\n",
    "nn = Conv2D(32, (3, 3), activation='relu', padding='same')(input_img)\n",
    "nn = MaxPooling2D((2, 2), padding='same')(nn)\n",
    "nn = Conv2D(32, (3, 3), activation='relu', padding='same')(nn)\n",
    "encoded = MaxPooling2D((2, 2), padding='same')(nn)\n",
    "\n",
    "nn = Conv2D(32, (3, 3), activation='relu', padding='same')(encoded)\n",
    "nn = UpSampling2D((2, 2))(nn)\n",
    "nn = Conv2D(32, (3, 3), activation='relu', padding='same')(nn)\n",
    "nn = UpSampling2D((2, 2))(nn)\n",
    "decoded = Conv2D(1, (3, 3), activation='sigmoid', padding='same')(nn)"
   ]
  },
  {
   "cell_type": "code",
   "execution_count": null,
   "metadata": {},
   "outputs": [
    {
     "name": "stdout",
     "output_type": "stream",
     "text": [
      "Epoch 1/50\n",
      "235/235 [==============================] - 18s 77ms/step - loss: 156.6633 - val_loss: 8.4191\n",
      "Epoch 2/50\n",
      "235/235 [==============================] - 18s 79ms/step - loss: -206.2041 - val_loss: -414.8705\n",
      "Epoch 3/50\n",
      "235/235 [==============================] - 18s 78ms/step - loss: -466.1365 - val_loss: -498.1623\n",
      "Epoch 4/50\n",
      "235/235 [==============================] - 18s 79ms/step - loss: -494.7783 - val_loss: -503.8897\n",
      "Epoch 5/50\n",
      "235/235 [==============================] - 19s 81ms/step - loss: -497.3606 - val_loss: -505.0381\n",
      "Epoch 6/50\n",
      "235/235 [==============================] - 19s 81ms/step - loss: -498.2868 - val_loss: -505.9333\n",
      "Epoch 7/50\n",
      "235/235 [==============================] - 19s 81ms/step - loss: -499.1926 - val_loss: -506.8496\n",
      "Epoch 8/50\n",
      "235/235 [==============================] - 19s 80ms/step - loss: -500.0625 - val_loss: -507.6765\n",
      "Epoch 9/50\n",
      "235/235 [==============================] - 19s 80ms/step - loss: -500.8147 - val_loss: -508.3568\n",
      "Epoch 10/50\n",
      "235/235 [==============================] - 19s 79ms/step - loss: -501.3950 - val_loss: -508.8479\n",
      "Epoch 11/50\n",
      "235/235 [==============================] - 19s 80ms/step - loss: -501.8068 - val_loss: -509.1962\n",
      "Epoch 12/50\n",
      "235/235 [==============================] - 19s 80ms/step - loss: -502.1051 - val_loss: -509.4555\n",
      "Epoch 13/50\n",
      "235/235 [==============================] - 19s 82ms/step - loss: -502.3281 - val_loss: -509.6469\n",
      "Epoch 14/50\n",
      "235/235 [==============================] - 20s 86ms/step - loss: -502.4930 - val_loss: -509.7917\n",
      "Epoch 15/50\n",
      "235/235 [==============================] - 19s 81ms/step - loss: -502.6192 - val_loss: -509.9041\n",
      "Epoch 16/50\n",
      "235/235 [==============================] - 19s 79ms/step - loss: -502.7180 - val_loss: -509.9933\n",
      "Epoch 17/50\n",
      "235/235 [==============================] - 19s 79ms/step - loss: -502.7977 - val_loss: -510.0662\n",
      "Epoch 18/50\n",
      "235/235 [==============================] - 18s 78ms/step - loss: -502.8634 - val_loss: -510.1271\n",
      "Epoch 19/50\n",
      "235/235 [==============================] - 19s 79ms/step - loss: -502.9199 - val_loss: -510.1801\n",
      "Epoch 20/50\n",
      "235/235 [==============================] - 19s 81ms/step - loss: -502.9693 - val_loss: -510.2270\n",
      "Epoch 21/50\n",
      "235/235 [==============================] - 19s 79ms/step - loss: -503.0138 - val_loss: -510.2694\n",
      "Epoch 22/50\n",
      "235/235 [==============================] - 19s 80ms/step - loss: -503.0545 - val_loss: -510.3086\n",
      "Epoch 23/50\n",
      "235/235 [==============================] - 19s 79ms/step - loss: -503.0919 - val_loss: -510.3442\n",
      "Epoch 24/50\n",
      "235/235 [==============================] - 19s 79ms/step - loss: -503.1257 - val_loss: -510.3770\n",
      "Epoch 25/50\n",
      "235/235 [==============================] - 19s 81ms/step - loss: -503.1577 - val_loss: -510.4079\n",
      "Epoch 26/50\n",
      "235/235 [==============================] - 18s 78ms/step - loss: -503.1873 - val_loss: -510.4365\n",
      "Epoch 27/50\n",
      "235/235 [==============================] - 21s 87ms/step - loss: -503.2153 - val_loss: -510.4637\n",
      "Epoch 28/50\n",
      "235/235 [==============================] - 19s 81ms/step - loss: -503.2417 - val_loss: -510.4896\n",
      "Epoch 29/50\n",
      "235/235 [==============================] - 19s 80ms/step - loss: -503.2665 - val_loss: -510.5135\n",
      "Epoch 30/50\n",
      "235/235 [==============================] - 19s 80ms/step - loss: -503.2900 - val_loss: -510.5366\n",
      "Epoch 31/50\n",
      "235/235 [==============================] - 18s 78ms/step - loss: -503.3123 - val_loss: -510.5587\n",
      "Epoch 32/50\n",
      "235/235 [==============================] - 18s 78ms/step - loss: -503.3339 - val_loss: -510.5789\n",
      "Epoch 33/50\n",
      "235/235 [==============================] - 18s 78ms/step - loss: -503.3538 - val_loss: -510.5989\n",
      "Epoch 34/50\n",
      "235/235 [==============================] - 18s 78ms/step - loss: -503.3730 - val_loss: -510.6176\n",
      "Epoch 35/50\n",
      "235/235 [==============================] - 18s 79ms/step - loss: -503.3913 - val_loss: -510.6353\n",
      "Epoch 36/50\n",
      "235/235 [==============================] - 18s 78ms/step - loss: -503.4088 - val_loss: -510.6519\n",
      "Epoch 37/50\n",
      "235/235 [==============================] - 18s 78ms/step - loss: -503.4253 - val_loss: -510.6678\n",
      "Epoch 38/50\n",
      "235/235 [==============================] - 19s 79ms/step - loss: -503.4412 - val_loss: -510.6838\n",
      "Epoch 39/50\n",
      "235/235 [==============================] - 19s 80ms/step - loss: -503.4573 - val_loss: -510.6990\n",
      "Epoch 40/50\n",
      "235/235 [==============================] - 19s 80ms/step - loss: -503.4720 - val_loss: -510.7136\n",
      "Epoch 41/50\n",
      "137/235 [================>.............] - ETA: 8s - loss: -503.5026"
     ]
    }
   ],
   "source": [
    "autoencoder = Model(input_img, decoded)\n",
    "autoencoder.compile(optimizer='adadelta',loss='binary_crossentropy')\n",
    "autoencoder.fit(x_train_noisy, x_train,\n",
    "                epochs=50,\n",
    "                batch_size=256,\n",
    "                validation_data=(x_test_noisy, x_test))"
   ]
  },
  {
   "cell_type": "code",
   "execution_count": null,
   "metadata": {},
   "outputs": [],
   "source": []
  }
 ],
 "metadata": {
  "kernelspec": {
   "display_name": "Python 3 (ipykernel)",
   "language": "python",
   "name": "python3"
  },
  "language_info": {
   "codemirror_mode": {
    "name": "ipython",
    "version": 3
   },
   "file_extension": ".py",
   "mimetype": "text/x-python",
   "name": "python",
   "nbconvert_exporter": "python",
   "pygments_lexer": "ipython3",
   "version": "3.11.3"
  }
 },
 "nbformat": 4,
 "nbformat_minor": 2
}
